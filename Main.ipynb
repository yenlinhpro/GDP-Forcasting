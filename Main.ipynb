{
 "cells": [
  {
   "cell_type": "code",
   "execution_count": 2,
   "metadata": {},
   "outputs": [],
   "source": [
    "import pandas as pd\n",
    "import numpy as np\n",
    "import matplotlib.pyplot as plt\n",
    "import seaborn as sns \n",
    "import scipy.stats as stats \n",
    "import sklearn\n",
    "\n",
    "data = pd.read_csv(r'C:\\Users\\HDIT_03\\Downloads\\PYTHON\\Data portfolio\\GDP forcast\\gdp.csv')"
   ]
  },
  {
   "cell_type": "markdown",
   "metadata": {},
   "source": [
    "### Exploratory Data Analysis (EDA)\n"
   ]
  },
  {
   "cell_type": "code",
   "execution_count": 3,
   "metadata": {},
   "outputs": [
    {
     "data": {
      "text/html": [
       "<div>\n",
       "<style scoped>\n",
       "    .dataframe tbody tr th:only-of-type {\n",
       "        vertical-align: middle;\n",
       "    }\n",
       "\n",
       "    .dataframe tbody tr th {\n",
       "        vertical-align: top;\n",
       "    }\n",
       "\n",
       "    .dataframe thead th {\n",
       "        text-align: right;\n",
       "    }\n",
       "</style>\n",
       "<table border=\"1\" class=\"dataframe\">\n",
       "  <thead>\n",
       "    <tr style=\"text-align: right;\">\n",
       "      <th></th>\n",
       "      <th>Country</th>\n",
       "      <th>1980</th>\n",
       "      <th>1981</th>\n",
       "      <th>1982</th>\n",
       "      <th>1983</th>\n",
       "      <th>1984</th>\n",
       "      <th>1985</th>\n",
       "      <th>1986</th>\n",
       "      <th>1987</th>\n",
       "      <th>1988</th>\n",
       "      <th>...</th>\n",
       "      <th>2019</th>\n",
       "      <th>2020</th>\n",
       "      <th>2021</th>\n",
       "      <th>2022</th>\n",
       "      <th>2023</th>\n",
       "      <th>2024</th>\n",
       "      <th>2025</th>\n",
       "      <th>2026</th>\n",
       "      <th>2027</th>\n",
       "      <th>2028</th>\n",
       "    </tr>\n",
       "  </thead>\n",
       "  <tbody>\n",
       "    <tr>\n",
       "      <th>0</th>\n",
       "      <td>Afghanistan</td>\n",
       "      <td>0.000</td>\n",
       "      <td>0.000</td>\n",
       "      <td>0.000</td>\n",
       "      <td>0.000</td>\n",
       "      <td>0.000</td>\n",
       "      <td>0.000</td>\n",
       "      <td>0.000</td>\n",
       "      <td>0.000</td>\n",
       "      <td>0.000</td>\n",
       "      <td>...</td>\n",
       "      <td>586.204</td>\n",
       "      <td>611.268</td>\n",
       "      <td>443.385</td>\n",
       "      <td>0.000</td>\n",
       "      <td>0.000</td>\n",
       "      <td>0.000</td>\n",
       "      <td>0.000</td>\n",
       "      <td>0.000</td>\n",
       "      <td>0.000</td>\n",
       "      <td>0.000</td>\n",
       "    </tr>\n",
       "    <tr>\n",
       "      <th>1</th>\n",
       "      <td>Albania</td>\n",
       "      <td>728.359</td>\n",
       "      <td>817.734</td>\n",
       "      <td>824.542</td>\n",
       "      <td>815.529</td>\n",
       "      <td>788.332</td>\n",
       "      <td>788.801</td>\n",
       "      <td>855.724</td>\n",
       "      <td>832.245</td>\n",
       "      <td>805.046</td>\n",
       "      <td>...</td>\n",
       "      <td>5345.058</td>\n",
       "      <td>5278.986</td>\n",
       "      <td>6259.762</td>\n",
       "      <td>6657.637</td>\n",
       "      <td>8057.490</td>\n",
       "      <td>8877.337</td>\n",
       "      <td>9280.572</td>\n",
       "      <td>9818.569</td>\n",
       "      <td>10470.180</td>\n",
       "      <td>11187.728</td>\n",
       "    </tr>\n",
       "    <tr>\n",
       "      <th>2</th>\n",
       "      <td>Algeria</td>\n",
       "      <td>2268.607</td>\n",
       "      <td>2305.505</td>\n",
       "      <td>2254.328</td>\n",
       "      <td>2316.679</td>\n",
       "      <td>2432.717</td>\n",
       "      <td>2753.697</td>\n",
       "      <td>2698.915</td>\n",
       "      <td>2705.111</td>\n",
       "      <td>2143.742</td>\n",
       "      <td>...</td>\n",
       "      <td>3953.402</td>\n",
       "      <td>3321.601</td>\n",
       "      <td>3659.709</td>\n",
       "      <td>4306.820</td>\n",
       "      <td>4874.706</td>\n",
       "      <td>5130.360</td>\n",
       "      <td>5243.056</td>\n",
       "      <td>5335.671</td>\n",
       "      <td>5355.284</td>\n",
       "      <td>5365.190</td>\n",
       "    </tr>\n",
       "    <tr>\n",
       "      <th>3</th>\n",
       "      <td>Andorra</td>\n",
       "      <td>0.000</td>\n",
       "      <td>0.000</td>\n",
       "      <td>0.000</td>\n",
       "      <td>0.000</td>\n",
       "      <td>0.000</td>\n",
       "      <td>0.000</td>\n",
       "      <td>0.000</td>\n",
       "      <td>0.000</td>\n",
       "      <td>0.000</td>\n",
       "      <td>...</td>\n",
       "      <td>40688.491</td>\n",
       "      <td>36973.845</td>\n",
       "      <td>41806.876</td>\n",
       "      <td>41084.874</td>\n",
       "      <td>44107.317</td>\n",
       "      <td>45642.103</td>\n",
       "      <td>46215.307</td>\n",
       "      <td>46546.578</td>\n",
       "      <td>46713.341</td>\n",
       "      <td>46920.949</td>\n",
       "    </tr>\n",
       "    <tr>\n",
       "      <th>4</th>\n",
       "      <td>Angola</td>\n",
       "      <td>802.627</td>\n",
       "      <td>731.427</td>\n",
       "      <td>712.576</td>\n",
       "      <td>723.654</td>\n",
       "      <td>747.325</td>\n",
       "      <td>817.068</td>\n",
       "      <td>743.735</td>\n",
       "      <td>828.958</td>\n",
       "      <td>875.526</td>\n",
       "      <td>...</td>\n",
       "      <td>2612.246</td>\n",
       "      <td>1709.283</td>\n",
       "      <td>2169.648</td>\n",
       "      <td>3438.147</td>\n",
       "      <td>2550.001</td>\n",
       "      <td>2452.737</td>\n",
       "      <td>2483.027</td>\n",
       "      <td>2507.490</td>\n",
       "      <td>2570.826</td>\n",
       "      <td>2622.394</td>\n",
       "    </tr>\n",
       "  </tbody>\n",
       "</table>\n",
       "<p>5 rows × 50 columns</p>\n",
       "</div>"
      ],
      "text/plain": [
       "       Country      1980      1981      1982      1983      1984      1985  \\\n",
       "0  Afghanistan     0.000     0.000     0.000     0.000     0.000     0.000   \n",
       "1      Albania   728.359   817.734   824.542   815.529   788.332   788.801   \n",
       "2      Algeria  2268.607  2305.505  2254.328  2316.679  2432.717  2753.697   \n",
       "3      Andorra     0.000     0.000     0.000     0.000     0.000     0.000   \n",
       "4       Angola   802.627   731.427   712.576   723.654   747.325   817.068   \n",
       "\n",
       "       1986      1987      1988  ...       2019       2020       2021  \\\n",
       "0     0.000     0.000     0.000  ...    586.204    611.268    443.385   \n",
       "1   855.724   832.245   805.046  ...   5345.058   5278.986   6259.762   \n",
       "2  2698.915  2705.111  2143.742  ...   3953.402   3321.601   3659.709   \n",
       "3     0.000     0.000     0.000  ...  40688.491  36973.845  41806.876   \n",
       "4   743.735   828.958   875.526  ...   2612.246   1709.283   2169.648   \n",
       "\n",
       "        2022       2023       2024       2025       2026       2027       2028  \n",
       "0      0.000      0.000      0.000      0.000      0.000      0.000      0.000  \n",
       "1   6657.637   8057.490   8877.337   9280.572   9818.569  10470.180  11187.728  \n",
       "2   4306.820   4874.706   5130.360   5243.056   5335.671   5355.284   5365.190  \n",
       "3  41084.874  44107.317  45642.103  46215.307  46546.578  46713.341  46920.949  \n",
       "4   3438.147   2550.001   2452.737   2483.027   2507.490   2570.826   2622.394  \n",
       "\n",
       "[5 rows x 50 columns]"
      ]
     },
     "execution_count": 3,
     "metadata": {},
     "output_type": "execute_result"
    }
   ],
   "source": [
    "data.head()"
   ]
  },
  {
   "cell_type": "code",
   "execution_count": 4,
   "metadata": {},
   "outputs": [
    {
     "data": {
      "text/html": [
       "<div>\n",
       "<style scoped>\n",
       "    .dataframe tbody tr th:only-of-type {\n",
       "        vertical-align: middle;\n",
       "    }\n",
       "\n",
       "    .dataframe tbody tr th {\n",
       "        vertical-align: top;\n",
       "    }\n",
       "\n",
       "    .dataframe thead th {\n",
       "        text-align: right;\n",
       "    }\n",
       "</style>\n",
       "<table border=\"1\" class=\"dataframe\">\n",
       "  <thead>\n",
       "    <tr style=\"text-align: right;\">\n",
       "      <th></th>\n",
       "      <th>Country</th>\n",
       "      <th>1980</th>\n",
       "      <th>1981</th>\n",
       "      <th>1982</th>\n",
       "      <th>1983</th>\n",
       "      <th>1984</th>\n",
       "      <th>1985</th>\n",
       "      <th>1986</th>\n",
       "      <th>1987</th>\n",
       "      <th>1988</th>\n",
       "      <th>...</th>\n",
       "      <th>2019</th>\n",
       "      <th>2020</th>\n",
       "      <th>2021</th>\n",
       "      <th>2022</th>\n",
       "      <th>2023</th>\n",
       "      <th>2024</th>\n",
       "      <th>2025</th>\n",
       "      <th>2026</th>\n",
       "      <th>2027</th>\n",
       "      <th>2028</th>\n",
       "    </tr>\n",
       "  </thead>\n",
       "  <tbody>\n",
       "    <tr>\n",
       "      <th>224</th>\n",
       "      <td>Middle East and Central Asia</td>\n",
       "      <td>2072.125</td>\n",
       "      <td>2142.044</td>\n",
       "      <td>2065.611</td>\n",
       "      <td>2039.817</td>\n",
       "      <td>2003.369</td>\n",
       "      <td>2003.355</td>\n",
       "      <td>1985.727</td>\n",
       "      <td>2288.888</td>\n",
       "      <td>2348.431</td>\n",
       "      <td>...</td>\n",
       "      <td>4641.970</td>\n",
       "      <td>4070.079</td>\n",
       "      <td>4688.849</td>\n",
       "      <td>5699.162</td>\n",
       "      <td>5536.376</td>\n",
       "      <td>5665.879</td>\n",
       "      <td>5879.257</td>\n",
       "      <td>6082.398</td>\n",
       "      <td>6307.168</td>\n",
       "      <td>6544.966</td>\n",
       "    </tr>\n",
       "    <tr>\n",
       "      <th>225</th>\n",
       "      <td>Other advanced economies</td>\n",
       "      <td>6887.678</td>\n",
       "      <td>6931.932</td>\n",
       "      <td>6794.256</td>\n",
       "      <td>6701.009</td>\n",
       "      <td>6949.715</td>\n",
       "      <td>6862.985</td>\n",
       "      <td>8293.344</td>\n",
       "      <td>10107.535</td>\n",
       "      <td>11788.995</td>\n",
       "      <td>...</td>\n",
       "      <td>42996.566</td>\n",
       "      <td>42622.705</td>\n",
       "      <td>49366.494</td>\n",
       "      <td>49072.625</td>\n",
       "      <td>50006.416</td>\n",
       "      <td>51713.834</td>\n",
       "      <td>54067.823</td>\n",
       "      <td>56395.411</td>\n",
       "      <td>58664.967</td>\n",
       "      <td>60994.861</td>\n",
       "    </tr>\n",
       "    <tr>\n",
       "      <th>226</th>\n",
       "      <td>Sub-Saharan Africa</td>\n",
       "      <td>0.000</td>\n",
       "      <td>0.000</td>\n",
       "      <td>0.000</td>\n",
       "      <td>0.000</td>\n",
       "      <td>0.000</td>\n",
       "      <td>0.000</td>\n",
       "      <td>0.000</td>\n",
       "      <td>0.000</td>\n",
       "      <td>0.000</td>\n",
       "      <td>...</td>\n",
       "      <td>1722.048</td>\n",
       "      <td>1586.646</td>\n",
       "      <td>1745.130</td>\n",
       "      <td>1815.339</td>\n",
       "      <td>1721.362</td>\n",
       "      <td>1788.174</td>\n",
       "      <td>1900.327</td>\n",
       "      <td>2005.471</td>\n",
       "      <td>2111.363</td>\n",
       "      <td>2230.357</td>\n",
       "    </tr>\n",
       "    <tr>\n",
       "      <th>227</th>\n",
       "      <td>World</td>\n",
       "      <td>2863.027</td>\n",
       "      <td>2879.483</td>\n",
       "      <td>2775.621</td>\n",
       "      <td>2800.480</td>\n",
       "      <td>2850.684</td>\n",
       "      <td>2924.417</td>\n",
       "      <td>3381.137</td>\n",
       "      <td>3825.176</td>\n",
       "      <td>4229.276</td>\n",
       "      <td>...</td>\n",
       "      <td>11500.192</td>\n",
       "      <td>11077.299</td>\n",
       "      <td>12468.435</td>\n",
       "      <td>12895.375</td>\n",
       "      <td>13332.788</td>\n",
       "      <td>13872.367</td>\n",
       "      <td>14477.052</td>\n",
       "      <td>15085.863</td>\n",
       "      <td>15673.547</td>\n",
       "      <td>16295.820</td>\n",
       "    </tr>\n",
       "    <tr>\n",
       "      <th>228</th>\n",
       "      <td>©IMF, 2023</td>\n",
       "      <td>NaN</td>\n",
       "      <td>NaN</td>\n",
       "      <td>NaN</td>\n",
       "      <td>NaN</td>\n",
       "      <td>NaN</td>\n",
       "      <td>NaN</td>\n",
       "      <td>NaN</td>\n",
       "      <td>NaN</td>\n",
       "      <td>NaN</td>\n",
       "      <td>...</td>\n",
       "      <td>NaN</td>\n",
       "      <td>NaN</td>\n",
       "      <td>NaN</td>\n",
       "      <td>NaN</td>\n",
       "      <td>NaN</td>\n",
       "      <td>NaN</td>\n",
       "      <td>NaN</td>\n",
       "      <td>NaN</td>\n",
       "      <td>NaN</td>\n",
       "      <td>NaN</td>\n",
       "    </tr>\n",
       "  </tbody>\n",
       "</table>\n",
       "<p>5 rows × 50 columns</p>\n",
       "</div>"
      ],
      "text/plain": [
       "                          Country      1980      1981      1982      1983  \\\n",
       "224  Middle East and Central Asia  2072.125  2142.044  2065.611  2039.817   \n",
       "225      Other advanced economies  6887.678  6931.932  6794.256  6701.009   \n",
       "226            Sub-Saharan Africa     0.000     0.000     0.000     0.000   \n",
       "227                         World  2863.027  2879.483  2775.621  2800.480   \n",
       "228                    ©IMF, 2023       NaN       NaN       NaN       NaN   \n",
       "\n",
       "         1984      1985      1986       1987       1988  ...       2019  \\\n",
       "224  2003.369  2003.355  1985.727   2288.888   2348.431  ...   4641.970   \n",
       "225  6949.715  6862.985  8293.344  10107.535  11788.995  ...  42996.566   \n",
       "226     0.000     0.000     0.000      0.000      0.000  ...   1722.048   \n",
       "227  2850.684  2924.417  3381.137   3825.176   4229.276  ...  11500.192   \n",
       "228       NaN       NaN       NaN        NaN        NaN  ...        NaN   \n",
       "\n",
       "          2020       2021       2022       2023       2024       2025  \\\n",
       "224   4070.079   4688.849   5699.162   5536.376   5665.879   5879.257   \n",
       "225  42622.705  49366.494  49072.625  50006.416  51713.834  54067.823   \n",
       "226   1586.646   1745.130   1815.339   1721.362   1788.174   1900.327   \n",
       "227  11077.299  12468.435  12895.375  13332.788  13872.367  14477.052   \n",
       "228        NaN        NaN        NaN        NaN        NaN        NaN   \n",
       "\n",
       "          2026       2027       2028  \n",
       "224   6082.398   6307.168   6544.966  \n",
       "225  56395.411  58664.967  60994.861  \n",
       "226   2005.471   2111.363   2230.357  \n",
       "227  15085.863  15673.547  16295.820  \n",
       "228        NaN        NaN        NaN  \n",
       "\n",
       "[5 rows x 50 columns]"
      ]
     },
     "execution_count": 4,
     "metadata": {},
     "output_type": "execute_result"
    }
   ],
   "source": [
    "data.tail()"
   ]
  },
  {
   "cell_type": "code",
   "execution_count": 5,
   "metadata": {},
   "outputs": [
    {
     "data": {
      "text/plain": [
       "Country    0\n",
       "1980       1\n",
       "1981       1\n",
       "1982       1\n",
       "1983       1\n",
       "1984       1\n",
       "1985       1\n",
       "1986       1\n",
       "1987       1\n",
       "1988       1\n",
       "1989       1\n",
       "1990       1\n",
       "1991       1\n",
       "1992       1\n",
       "1993       1\n",
       "1994       1\n",
       "1995       1\n",
       "1996       1\n",
       "1997       1\n",
       "1998       1\n",
       "1999       1\n",
       "2000       1\n",
       "2001       1\n",
       "2002       1\n",
       "2003       1\n",
       "2004       1\n",
       "2005       1\n",
       "2006       1\n",
       "2007       1\n",
       "2008       1\n",
       "2009       1\n",
       "2010       1\n",
       "2011       1\n",
       "2012       1\n",
       "2013       1\n",
       "2014       1\n",
       "2015       1\n",
       "2016       1\n",
       "2017       1\n",
       "2018       1\n",
       "2019       1\n",
       "2020       1\n",
       "2021       1\n",
       "2022       1\n",
       "2023       1\n",
       "2024       1\n",
       "2025       1\n",
       "2026       1\n",
       "2027       1\n",
       "2028       1\n",
       "dtype: int64"
      ]
     },
     "execution_count": 5,
     "metadata": {},
     "output_type": "execute_result"
    }
   ],
   "source": [
    "data.isnull().sum()"
   ]
  },
  {
   "cell_type": "code",
   "execution_count": 6,
   "metadata": {},
   "outputs": [
    {
     "data": {
      "text/html": [
       "<div>\n",
       "<style scoped>\n",
       "    .dataframe tbody tr th:only-of-type {\n",
       "        vertical-align: middle;\n",
       "    }\n",
       "\n",
       "    .dataframe tbody tr th {\n",
       "        vertical-align: top;\n",
       "    }\n",
       "\n",
       "    .dataframe thead th {\n",
       "        text-align: right;\n",
       "    }\n",
       "</style>\n",
       "<table border=\"1\" class=\"dataframe\">\n",
       "  <thead>\n",
       "    <tr style=\"text-align: right;\">\n",
       "      <th></th>\n",
       "      <th>1980</th>\n",
       "      <th>1981</th>\n",
       "      <th>1982</th>\n",
       "      <th>1983</th>\n",
       "      <th>1984</th>\n",
       "      <th>1985</th>\n",
       "      <th>1986</th>\n",
       "      <th>1987</th>\n",
       "      <th>1988</th>\n",
       "      <th>1989</th>\n",
       "      <th>...</th>\n",
       "      <th>2019</th>\n",
       "      <th>2020</th>\n",
       "      <th>2021</th>\n",
       "      <th>2022</th>\n",
       "      <th>2023</th>\n",
       "      <th>2024</th>\n",
       "      <th>2025</th>\n",
       "      <th>2026</th>\n",
       "      <th>2027</th>\n",
       "      <th>2028</th>\n",
       "    </tr>\n",
       "  </thead>\n",
       "  <tbody>\n",
       "    <tr>\n",
       "      <th>count</th>\n",
       "      <td>228.000000</td>\n",
       "      <td>228.000000</td>\n",
       "      <td>228.000000</td>\n",
       "      <td>228.000000</td>\n",
       "      <td>228.000000</td>\n",
       "      <td>228.000000</td>\n",
       "      <td>228.000000</td>\n",
       "      <td>228.000000</td>\n",
       "      <td>228.000000</td>\n",
       "      <td>228.000000</td>\n",
       "      <td>...</td>\n",
       "      <td>228.000000</td>\n",
       "      <td>228.000000</td>\n",
       "      <td>228.000000</td>\n",
       "      <td>228.000000</td>\n",
       "      <td>228.000000</td>\n",
       "      <td>228.000000</td>\n",
       "      <td>228.000000</td>\n",
       "      <td>228.000000</td>\n",
       "      <td>228.000000</td>\n",
       "      <td>228.000000</td>\n",
       "    </tr>\n",
       "    <tr>\n",
       "      <th>mean</th>\n",
       "      <td>3007.557961</td>\n",
       "      <td>2985.078478</td>\n",
       "      <td>2845.693246</td>\n",
       "      <td>2751.168276</td>\n",
       "      <td>2731.342140</td>\n",
       "      <td>2828.163404</td>\n",
       "      <td>3166.998965</td>\n",
       "      <td>3649.521351</td>\n",
       "      <td>4002.694013</td>\n",
       "      <td>4068.991202</td>\n",
       "      <td>...</td>\n",
       "      <td>15249.341452</td>\n",
       "      <td>14190.009197</td>\n",
       "      <td>16244.182768</td>\n",
       "      <td>16825.188969</td>\n",
       "      <td>17772.092285</td>\n",
       "      <td>18678.934614</td>\n",
       "      <td>19537.704833</td>\n",
       "      <td>20364.598039</td>\n",
       "      <td>21136.849899</td>\n",
       "      <td>21931.253307</td>\n",
       "    </tr>\n",
       "    <tr>\n",
       "      <th>std</th>\n",
       "      <td>5165.616558</td>\n",
       "      <td>5102.793252</td>\n",
       "      <td>4680.207607</td>\n",
       "      <td>4407.876056</td>\n",
       "      <td>4348.569898</td>\n",
       "      <td>4511.630577</td>\n",
       "      <td>5011.311206</td>\n",
       "      <td>5943.895781</td>\n",
       "      <td>6520.006879</td>\n",
       "      <td>6682.817670</td>\n",
       "      <td>...</td>\n",
       "      <td>19585.341197</td>\n",
       "      <td>18684.064272</td>\n",
       "      <td>21664.193281</td>\n",
       "      <td>22032.679903</td>\n",
       "      <td>23110.907576</td>\n",
       "      <td>24210.550616</td>\n",
       "      <td>25281.936735</td>\n",
       "      <td>26251.894367</td>\n",
       "      <td>27151.945329</td>\n",
       "      <td>28077.506579</td>\n",
       "    </tr>\n",
       "    <tr>\n",
       "      <th>min</th>\n",
       "      <td>0.000000</td>\n",
       "      <td>0.000000</td>\n",
       "      <td>0.000000</td>\n",
       "      <td>0.000000</td>\n",
       "      <td>0.000000</td>\n",
       "      <td>0.000000</td>\n",
       "      <td>0.000000</td>\n",
       "      <td>0.000000</td>\n",
       "      <td>0.000000</td>\n",
       "      <td>0.000000</td>\n",
       "      <td>...</td>\n",
       "      <td>0.000000</td>\n",
       "      <td>0.000000</td>\n",
       "      <td>0.000000</td>\n",
       "      <td>0.000000</td>\n",
       "      <td>0.000000</td>\n",
       "      <td>0.000000</td>\n",
       "      <td>0.000000</td>\n",
       "      <td>0.000000</td>\n",
       "      <td>0.000000</td>\n",
       "      <td>0.000000</td>\n",
       "    </tr>\n",
       "    <tr>\n",
       "      <th>25%</th>\n",
       "      <td>0.000000</td>\n",
       "      <td>0.000000</td>\n",
       "      <td>0.000000</td>\n",
       "      <td>0.000000</td>\n",
       "      <td>0.000000</td>\n",
       "      <td>0.000000</td>\n",
       "      <td>0.000000</td>\n",
       "      <td>0.000000</td>\n",
       "      <td>0.000000</td>\n",
       "      <td>0.000000</td>\n",
       "      <td>...</td>\n",
       "      <td>2382.925750</td>\n",
       "      <td>2261.865250</td>\n",
       "      <td>2432.359250</td>\n",
       "      <td>2407.781750</td>\n",
       "      <td>2539.789750</td>\n",
       "      <td>2646.656000</td>\n",
       "      <td>2805.613750</td>\n",
       "      <td>2833.000250</td>\n",
       "      <td>2704.142250</td>\n",
       "      <td>2768.451750</td>\n",
       "    </tr>\n",
       "    <tr>\n",
       "      <th>50%</th>\n",
       "      <td>894.572500</td>\n",
       "      <td>962.783500</td>\n",
       "      <td>895.076500</td>\n",
       "      <td>843.802000</td>\n",
       "      <td>878.059000</td>\n",
       "      <td>849.600000</td>\n",
       "      <td>954.215000</td>\n",
       "      <td>1010.010000</td>\n",
       "      <td>1119.853000</td>\n",
       "      <td>989.554500</td>\n",
       "      <td>...</td>\n",
       "      <td>6180.292000</td>\n",
       "      <td>5604.953500</td>\n",
       "      <td>6249.515500</td>\n",
       "      <td>6677.603000</td>\n",
       "      <td>7387.639000</td>\n",
       "      <td>7530.690000</td>\n",
       "      <td>7825.917500</td>\n",
       "      <td>8194.115500</td>\n",
       "      <td>8615.552000</td>\n",
       "      <td>9233.257000</td>\n",
       "    </tr>\n",
       "    <tr>\n",
       "      <th>75%</th>\n",
       "      <td>2763.777250</td>\n",
       "      <td>2916.105250</td>\n",
       "      <td>2783.255250</td>\n",
       "      <td>2764.846000</td>\n",
       "      <td>2623.163500</td>\n",
       "      <td>2796.377000</td>\n",
       "      <td>3219.743000</td>\n",
       "      <td>3575.712000</td>\n",
       "      <td>3977.245750</td>\n",
       "      <td>3504.064750</td>\n",
       "      <td>...</td>\n",
       "      <td>19370.403250</td>\n",
       "      <td>17735.547750</td>\n",
       "      <td>20355.203750</td>\n",
       "      <td>21434.165750</td>\n",
       "      <td>23497.564750</td>\n",
       "      <td>25813.178250</td>\n",
       "      <td>28485.728000</td>\n",
       "      <td>29801.730500</td>\n",
       "      <td>30671.373250</td>\n",
       "      <td>31428.879000</td>\n",
       "    </tr>\n",
       "    <tr>\n",
       "      <th>max</th>\n",
       "      <td>41311.881000</td>\n",
       "      <td>42237.276000</td>\n",
       "      <td>36927.264000</td>\n",
       "      <td>32717.479000</td>\n",
       "      <td>29957.847000</td>\n",
       "      <td>27912.523000</td>\n",
       "      <td>24529.567000</td>\n",
       "      <td>30520.621000</td>\n",
       "      <td>32794.286000</td>\n",
       "      <td>31440.365000</td>\n",
       "      <td>...</td>\n",
       "      <td>113860.533000</td>\n",
       "      <td>117616.151000</td>\n",
       "      <td>134925.164000</td>\n",
       "      <td>126598.103000</td>\n",
       "      <td>135605.438000</td>\n",
       "      <td>140307.606000</td>\n",
       "      <td>144960.312000</td>\n",
       "      <td>148829.206000</td>\n",
       "      <td>151657.777000</td>\n",
       "      <td>154419.811000</td>\n",
       "    </tr>\n",
       "  </tbody>\n",
       "</table>\n",
       "<p>8 rows × 49 columns</p>\n",
       "</div>"
      ],
      "text/plain": [
       "               1980          1981          1982          1983          1984  \\\n",
       "count    228.000000    228.000000    228.000000    228.000000    228.000000   \n",
       "mean    3007.557961   2985.078478   2845.693246   2751.168276   2731.342140   \n",
       "std     5165.616558   5102.793252   4680.207607   4407.876056   4348.569898   \n",
       "min        0.000000      0.000000      0.000000      0.000000      0.000000   \n",
       "25%        0.000000      0.000000      0.000000      0.000000      0.000000   \n",
       "50%      894.572500    962.783500    895.076500    843.802000    878.059000   \n",
       "75%     2763.777250   2916.105250   2783.255250   2764.846000   2623.163500   \n",
       "max    41311.881000  42237.276000  36927.264000  32717.479000  29957.847000   \n",
       "\n",
       "               1985          1986          1987          1988          1989  \\\n",
       "count    228.000000    228.000000    228.000000    228.000000    228.000000   \n",
       "mean    2828.163404   3166.998965   3649.521351   4002.694013   4068.991202   \n",
       "std     4511.630577   5011.311206   5943.895781   6520.006879   6682.817670   \n",
       "min        0.000000      0.000000      0.000000      0.000000      0.000000   \n",
       "25%        0.000000      0.000000      0.000000      0.000000      0.000000   \n",
       "50%      849.600000    954.215000   1010.010000   1119.853000    989.554500   \n",
       "75%     2796.377000   3219.743000   3575.712000   3977.245750   3504.064750   \n",
       "max    27912.523000  24529.567000  30520.621000  32794.286000  31440.365000   \n",
       "\n",
       "       ...           2019           2020           2021           2022  \\\n",
       "count  ...     228.000000     228.000000     228.000000     228.000000   \n",
       "mean   ...   15249.341452   14190.009197   16244.182768   16825.188969   \n",
       "std    ...   19585.341197   18684.064272   21664.193281   22032.679903   \n",
       "min    ...       0.000000       0.000000       0.000000       0.000000   \n",
       "25%    ...    2382.925750    2261.865250    2432.359250    2407.781750   \n",
       "50%    ...    6180.292000    5604.953500    6249.515500    6677.603000   \n",
       "75%    ...   19370.403250   17735.547750   20355.203750   21434.165750   \n",
       "max    ...  113860.533000  117616.151000  134925.164000  126598.103000   \n",
       "\n",
       "                2023           2024           2025           2026  \\\n",
       "count     228.000000     228.000000     228.000000     228.000000   \n",
       "mean    17772.092285   18678.934614   19537.704833   20364.598039   \n",
       "std     23110.907576   24210.550616   25281.936735   26251.894367   \n",
       "min         0.000000       0.000000       0.000000       0.000000   \n",
       "25%      2539.789750    2646.656000    2805.613750    2833.000250   \n",
       "50%      7387.639000    7530.690000    7825.917500    8194.115500   \n",
       "75%     23497.564750   25813.178250   28485.728000   29801.730500   \n",
       "max    135605.438000  140307.606000  144960.312000  148829.206000   \n",
       "\n",
       "                2027           2028  \n",
       "count     228.000000     228.000000  \n",
       "mean    21136.849899   21931.253307  \n",
       "std     27151.945329   28077.506579  \n",
       "min         0.000000       0.000000  \n",
       "25%      2704.142250    2768.451750  \n",
       "50%      8615.552000    9233.257000  \n",
       "75%     30671.373250   31428.879000  \n",
       "max    151657.777000  154419.811000  \n",
       "\n",
       "[8 rows x 49 columns]"
      ]
     },
     "execution_count": 6,
     "metadata": {},
     "output_type": "execute_result"
    }
   ],
   "source": [
    "data.describe()"
   ]
  },
  {
   "cell_type": "code",
   "execution_count": 7,
   "metadata": {},
   "outputs": [
    {
     "data": {
      "text/plain": [
       "49"
      ]
     },
     "execution_count": 7,
     "metadata": {},
     "output_type": "execute_result"
    }
   ],
   "source": [
    "data.isnull().sum().sum()"
   ]
  },
  {
   "cell_type": "code",
   "execution_count": 8,
   "metadata": {},
   "outputs": [
    {
     "data": {
      "text/plain": [
       "array(['Afghanistan', 'Albania', 'Algeria', 'Andorra', 'Angola',\n",
       "       'Antigua and Barbuda', 'Argentina', 'Armenia', 'Aruba',\n",
       "       'Australia', 'Austria', 'Azerbaijan', 'Bahamas, The', 'Bahrain',\n",
       "       'Bangladesh', 'Barbados', 'Belarus', 'Belgium', 'Belize', 'Benin',\n",
       "       'Bhutan', 'Bolivia', 'Bosnia and Herzegovina', 'Botswana',\n",
       "       'Brazil', 'Brunei Darussalam', 'Bulgaria', 'Burkina Faso',\n",
       "       'Burundi', 'Cabo Verde', 'Cambodia', 'Cameroon', 'Canada',\n",
       "       'Central African Republic', 'Chad', 'Chile',\n",
       "       \"China, People's Republic of\", 'Colombia', 'Comoros',\n",
       "       'Congo, Dem. Rep. of the', 'Congo, Republic of ', 'Costa Rica',\n",
       "       'Croatia', 'Cyprus', 'Czech Republic', \"Côte d'Ivoire\", 'Denmark',\n",
       "       'Djibouti', 'Dominica', 'Dominican Republic', 'Ecuador', 'Egypt',\n",
       "       'El Salvador', 'Equatorial Guinea', 'Eritrea', 'Estonia',\n",
       "       'Eswatini', 'Ethiopia', 'Fiji', 'Finland', 'France', 'Gabon',\n",
       "       'Gambia, The', 'Georgia', 'Germany', 'Ghana', 'Greece', 'Grenada',\n",
       "       'Guatemala', 'Guinea', 'Guinea-Bissau', 'Guyana', 'Haiti',\n",
       "       'Honduras', 'Hong Kong SAR', 'Hungary', 'Iceland', 'India',\n",
       "       'Indonesia', 'Iran', 'Iraq', 'Ireland', 'Israel', 'Italy',\n",
       "       'Jamaica', 'Japan', 'Jordan', 'Kazakhstan', 'Kenya', 'Kiribati',\n",
       "       'Korea, Republic of', 'Kosovo', 'Kuwait', 'Kyrgyz Republic',\n",
       "       'Lao P.D.R.', 'Latvia', 'Lebanon', 'Lesotho', 'Liberia', 'Libya',\n",
       "       'Lithuania', 'Luxembourg', 'Macao SAR', 'Madagascar', 'Malawi',\n",
       "       'Malaysia', 'Maldives', 'Mali', 'Malta', 'Marshall Islands',\n",
       "       'Mauritania', 'Mauritius', 'Mexico', 'Micronesia, Fed. States of',\n",
       "       'Moldova', 'Mongolia', 'Montenegro', 'Morocco', 'Mozambique',\n",
       "       'Myanmar', 'Namibia', 'Nauru', 'Nepal', 'Netherlands',\n",
       "       'New Zealand', 'Nicaragua', 'Niger', 'Nigeria', 'North Macedonia ',\n",
       "       'Norway', 'Oman', 'Pakistan', 'Palau', 'Panama',\n",
       "       'Papua New Guinea', 'Paraguay', 'Peru', 'Philippines', 'Poland',\n",
       "       'Portugal', 'Puerto Rico', 'Qatar', 'Romania',\n",
       "       'Russian Federation', 'Rwanda', 'Saint Kitts and Nevis',\n",
       "       'Saint Lucia', 'Saint Vincent and the Grenadines', 'Samoa',\n",
       "       'San Marino', 'Saudi Arabia', 'Senegal', 'Serbia', 'Seychelles',\n",
       "       'Sierra Leone', 'Singapore', 'Slovak Republic', 'Slovenia',\n",
       "       'Solomon Islands', 'Somalia', 'South Africa',\n",
       "       'South Sudan, Republic of', 'Spain', 'Sri Lanka', 'Sudan',\n",
       "       'Suriname', 'Sweden', 'Switzerland', 'Syria',\n",
       "       'São Tomé and Príncipe', 'Taiwan Province of China', 'Tajikistan',\n",
       "       'Tanzania', 'Thailand', 'Timor-Leste', 'Togo', 'Tonga',\n",
       "       'Trinidad and Tobago', 'Tunisia', 'Turkmenistan', 'Tuvalu',\n",
       "       'Türkiye, Republic of', 'Uganda', 'Ukraine',\n",
       "       'United Arab Emirates', 'United Kingdom', 'United States',\n",
       "       'Uruguay', 'Uzbekistan', 'Vanuatu', 'Venezuela', 'Vietnam',\n",
       "       'West Bank and Gaza', 'Yemen', 'Zambia', 'Zimbabwe',\n",
       "       'Africa (Region)', 'Asia and Pacific', 'Australia and New Zealand',\n",
       "       'Caribbean', 'Central America', 'Central Asia and the Caucasus',\n",
       "       'East Asia', 'Eastern Europe ', 'Europe', 'Middle East (Region)',\n",
       "       'North Africa', 'North America', 'Pacific Islands ',\n",
       "       'South America', 'South Asia', 'Southeast Asia',\n",
       "       'Sub-Saharan Africa (Region) ', 'Western Europe',\n",
       "       'Western Hemisphere (Region)', 'ASEAN-5', 'Advanced economies',\n",
       "       'Emerging and Developing Asia', 'Emerging and Developing Europe',\n",
       "       'Emerging market and developing economies', 'Euro area',\n",
       "       'European Union', 'Latin America and the Caribbean',\n",
       "       'Major advanced economies (G7)', 'Middle East and Central Asia',\n",
       "       'Other advanced economies', 'Sub-Saharan Africa', 'World',\n",
       "       '©IMF, 2023'], dtype=object)"
      ]
     },
     "execution_count": 8,
     "metadata": {},
     "output_type": "execute_result"
    }
   ],
   "source": [
    "unique_countries = data['Country'].unique()\n",
    "unique_countries"
   ]
  },
  {
   "cell_type": "code",
   "execution_count": 9,
   "metadata": {},
   "outputs": [
    {
     "data": {
      "text/plain": [
       "Country     object\n",
       "1980       float64\n",
       "1981       float64\n",
       "1982       float64\n",
       "1983       float64\n",
       "1984       float64\n",
       "1985       float64\n",
       "1986       float64\n",
       "1987       float64\n",
       "1988       float64\n",
       "1989       float64\n",
       "1990       float64\n",
       "1991       float64\n",
       "1992       float64\n",
       "1993       float64\n",
       "1994       float64\n",
       "1995       float64\n",
       "1996       float64\n",
       "1997       float64\n",
       "1998       float64\n",
       "1999       float64\n",
       "2000       float64\n",
       "2001       float64\n",
       "2002       float64\n",
       "2003       float64\n",
       "2004       float64\n",
       "2005       float64\n",
       "2006       float64\n",
       "2007       float64\n",
       "2008       float64\n",
       "2009       float64\n",
       "2010       float64\n",
       "2011       float64\n",
       "2012       float64\n",
       "2013       float64\n",
       "2014       float64\n",
       "2015       float64\n",
       "2016       float64\n",
       "2017       float64\n",
       "2018       float64\n",
       "2019       float64\n",
       "2020       float64\n",
       "2021       float64\n",
       "2022       float64\n",
       "2023       float64\n",
       "2024       float64\n",
       "2025       float64\n",
       "2026       float64\n",
       "2027       float64\n",
       "2028       float64\n",
       "dtype: object"
      ]
     },
     "execution_count": 9,
     "metadata": {},
     "output_type": "execute_result"
    }
   ],
   "source": [
    "data.dtypes"
   ]
  },
  {
   "cell_type": "markdown",
   "metadata": {},
   "source": [
    "### Data Cleaning\n",
    "##### Using SimpleImputer to replace null values"
   ]
  },
  {
   "cell_type": "code",
   "execution_count": 10,
   "metadata": {},
   "outputs": [],
   "source": [
    "from sklearn.impute import SimpleImputer\n",
    "\n",
    "imputer = SimpleImputer(strategy = 'mean')\n",
    "\n",
    "GDP = data.copy()\n",
    "GDP.iloc[:, 1:] = imputer.fit_transform(GDP.iloc[:, 1:])\n",
    "\n",
    "\n"
   ]
  },
  {
   "cell_type": "markdown",
   "metadata": {},
   "source": [
    "### Data Visualization"
   ]
  },
  {
   "cell_type": "code",
   "execution_count": 13,
   "metadata": {},
   "outputs": [
    {
     "data": {
      "image/png": "[encoded data removed]",
      "text/plain": [
       "<Figure size 1500x1000 with 49 Axes>"
      ]
     },
     "metadata": {},
     "output_type": "display_data"
    }
   ],
   "source": [
    "data.hist(bins = 20, figsize = (15, 10))\n",
    "plt.tight_layout()\n",
    "plt.show()\n",
    "#The chart show that most of country have less per capita GDP, indicated by the right skewed distribution"
   ]
  },
  {
   "cell_type": "code",
   "execution_count": 16,
   "metadata": {},
   "outputs": [
    {
     "data": {
      "image/png": "[encoded data removed]",
      "text/plain": [
       "<Figure size 1200x600 with 1 Axes>"
      ]
     },
     "metadata": {},
     "output_type": "display_data"
    }
   ],
   "source": [
    "year = data.columns[1:]\n",
    "val1 = data.query('Country == \"Vietnam\"').iloc[:, 1:].values.flatten()\n",
    "val2 = data.query('Country == \"Emerging and Developing Asia\"').iloc[:,1:].values.flatten()\n",
    "plt.figure(figsize=(12, 6))\n",
    "plt.plot(year,val1, label='Vietnam')\n",
    "plt.plot(year,val2, label='Emerging and Developing Asia')\n",
    "plt.xticks(rotation=90)\n",
    "plt.xlabel('Year')\n",
    "plt.ylabel('per capita GDP in (US$)')\n",
    "plt.title('Line Plot of Vietnam and Emerging and Developing Asia Over Time')\n",
    "plt.legend()\n",
    "plt.show()"
   ]
  },
  {
   "cell_type": "code",
   "execution_count": 19,
   "metadata": {},
   "outputs": [
    {
     "data": {
      "text/plain": [
       "0.9903722065654438"
      ]
     },
     "execution_count": 19,
     "metadata": {},
     "output_type": "execute_result"
    }
   ],
   "source": [
    "correlation_matrix = np.corrcoef(val1, val2)\n",
    "correlation_matrix[1,0]\n",
    "# The corr show that the growth of Vietnam has positively correlate with the growth of the region"
   ]
  },
  {
   "cell_type": "code",
   "execution_count": 21,
   "metadata": {},
   "outputs": [
    {
     "data": {
      "image/png": "[encoded data removed]",
      "text/plain": [
       "<Figure size 640x480 with 1 Axes>"
      ]
     },
     "metadata": {},
     "output_type": "display_data"
    }
   ],
   "source": [
    "data[['Country','2023']].query(\"Country not in ['Africa (Region)', 'Asia and Pacific', 'Australia and New Zealand', 'Caribbean', 'Central America', 'Central Asia and the Caucasus', 'East Asia', 'Eastern Europe ', 'Europe', 'Middle East (Region)', 'North Africa', 'North America', 'Pacific Islands ', 'South America', 'South Asia', 'Southeast Asia', 'Sub-Saharan Africa (Region) ', 'Western Europe', 'Western Hemisphere (Region)', 'ASEAN-5', 'Advanced economies', 'Emerging and Developing Asia', 'Emerging and Developing Europe', 'Emerging market and developing economies', 'Euro area', 'European Union', 'Latin America and the Caribbean', 'Major advanced economies (G7)', 'Middle East and Central Asia', 'Other advanced economies', 'Sub-Saharan Africa', 'World']\")\\\n",
    "  .sort_values(by='2023', ascending=False)\\\n",
    "  .set_index('Country')\\\n",
    "  .head(5)\\\n",
    "  .plot(kind='barh',title='Highest per capita GDP 2023')\n",
    "plt.xlabel('per capita GDP (US$)')\n",
    "plt.show()"
   ]
  },
  {
   "cell_type": "code",
   "execution_count": 24,
   "metadata": {},
   "outputs": [
    {
     "data": {
      "image/png": "[encoded data removed]",
      "text/plain": [
       "<Figure size 640x480 with 1 Axes>"
      ]
     },
     "metadata": {},
     "output_type": "display_data"
    }
   ],
   "source": [
    "data[['Country','2021','2022','2023']].query(\"Country not in ['Africa (Region)', 'Asia and Pacific', 'Australia and New Zealand', 'Caribbean', 'Central America', 'Central Asia and the Caucasus', 'East Asia', 'Eastern Europe ', 'Europe', 'Middle East (Region)', 'North Africa', 'North America', 'Pacific Islands ', 'South America', 'South Asia', 'Southeast Asia', 'Sub-Saharan Africa (Region) ', 'Western Europe', 'Western Hemisphere (Region)', 'ASEAN-5', 'Advanced economies', 'Emerging and Developing Asia', 'Emerging and Developing Europe', 'Emerging market and developing economies', 'Euro area', 'European Union', 'Latin America and the Caribbean', 'Major advanced economies (G7)', 'Middle East and Central Asia', 'Other advanced economies', 'Sub-Saharan Africa', 'World']\")\\\n",
    "  .sort_values(by='2023', ascending=True)\\\n",
    "  .set_index('Country')\\\n",
    "  .head(5)\\\n",
    "  .plot(kind='barh',title='Lowest per capita GDP 2023')\n",
    "plt.xlabel('per capita GDP (US$)')\n",
    "plt.show()\n"
   ]
  },
  {
   "cell_type": "code",
   "execution_count": 11,
   "metadata": {},
   "outputs": [
    {
     "data": {
      "application/vnd.plotly.v1+json": {
       "config": {
        "plotlyServerURL": "https://plot.ly"
       },
       "data": [
        {
         "hovertemplate": "Year=%{x}<br>Global GDP=%{y}<extra></extra>",
         "legendgroup": "",
         "line": {
          "color": "RoyalBlue",
          "dash": "solid"
         },
         "marker": {
          "color": "RoyalBlue",
          "size": 8,
          "symbol": "circle"
         },
         "mode": "lines",
         "name": "",
         "orientation": "v",
         "showlegend": false,
         "type": "scatter",
         "x": [
          "1980",
          "1981",
          "1982",
          "1983",
          "1984",
          "1985",
          "1986",
          "1987",
          "1988",
          "1989",
          "1990",
          "1991",
          "1992",
          "1993",
          "1994",
          "1995",
          "1996",
          "1997",
          "1998",
          "1999",
          "2000",
          "2001",
          "2002",
          "2003",
          "2004",
          "2005",
          "2006",
          "2007",
          "2008",
          "2009",
          "2010",
          "2011",
          "2012",
          "2013",
          "2014",
          "2015",
          "2016",
          "2017",
          "2018",
          "2019",
          "2020",
          "2021",
          "2022",
          "2023",
          "2024",
          "2025",
          "2026",
          "2027",
          "2028"
         ],
         "xaxis": "x",
         "y": [
          685723.2150000001,
          680597.8929999999,
          648818.0599999999,
          627266.367,
          622746.008,
          644821.256,
          722075.764,
          832090.8679999999,
          912614.235,
          927729.9940000001,
          1071783.5469999998,
          1108412.4389999998,
          1196799.6609999998,
          1186666.2199999997,
          1268163.793,
          1451314.4130000002,
          1498466.8960000002,
          1476793.2820000001,
          1455320.7820000001,
          1494356.233,
          1529994.4819999998,
          1523736.203,
          1600108.1460000002,
          1842879.436,
          2163577.3529999997,
          2357157.648,
          2549221.336,
          2896390.571,
          3176510.018,
          2832843.7440000004,
          3069501.4340000004,
          3416468.1859999998,
          3395885.865,
          3478889.5929999994,
          3504172.7430000002,
          3118852.473,
          3127501.195,
          3313790.357,
          3518888.822,
          3476849.851,
          3235322.097,
          3703673.6709999996,
          3836143.085,
          4052037.0409999997,
          4258797.092,
          4454596.702,
          4643128.352999999,
          4819201.777000001,
          5000325.753999999
         ],
         "yaxis": "y"
        }
       ],
       "layout": {
        "autosize": true,
        "legend": {
         "tracegroupgap": 0
        },
        "margin": {
         "autoexpand": true
        },
        "paper_bgcolor": "rgba(255, 255, 255, 1)",
        "plot_bgcolor": "rgba(0, 0, 0, 0)",
        "showlegend": false,
        "template": {
         "data": {
          "bar": [
           {
            "error_x": {
             "color": "#2a3f5f"
            },
            "error_y": {
             "color": "#2a3f5f"
            },
            "marker": {
             "line": {
              "color": "#E5ECF6",
              "width": 0.5
             },
             "pattern": {
              "fillmode": "overlay",
              "size": 10,
              "solidity": 0.2
             }
            },
            "type": "bar"
           }
          ],
          "barpolar": [
           {
            "marker": {
             "line": {
              "color": "#E5ECF6",
              "width": 0.5
             },
             "pattern": {
              "fillmode": "overlay",
              "size": 10,
              "solidity": 0.2
             }
            },
            "type": "barpolar"
           }
          ],
          "carpet": [
           {
            "aaxis": {
             "endlinecolor": "#2a3f5f",
             "gridcolor": "white",
             "linecolor": "white",
             "minorgridcolor": "white",
             "startlinecolor": "#2a3f5f"
            },
            "baxis": {
             "endlinecolor": "#2a3f5f",
             "gridcolor": "white",
             "linecolor": "white",
             "minorgridcolor": "white",
             "startlinecolor": "#2a3f5f"
            },
            "type": "carpet"
           }
          ],
          "choropleth": [
           {
            "colorbar": {
             "outlinewidth": 0,
             "ticks": ""
            },
            "type": "choropleth"
           }
          ],
          "contour": [
           {
            "colorbar": {
             "outlinewidth": 0,
             "ticks": ""
            },
            "colorscale": [
             [
              0,
              "#0d0887"
             ],
             [
              0.1111111111111111,
              "#46039f"
             ],
             [
              0.2222222222222222,
              "#7201a8"
             ],
             [
              0.3333333333333333,
              "#9c179e"
             ],
             [
              0.4444444444444444,
              "#bd3786"
             ],
             [
              0.5555555555555556,
              "#d8576b"
             ],
             [
              0.6666666666666666,
              "#ed7953"
             ],
             [
              0.7777777777777778,
              "#fb9f3a"
             ],
             [
              0.8888888888888888,
              "#fdca26"
             ],
             [
              1,
              "#f0f921"
             ]
            ],
            "type": "contour"
           }
          ],
          "contourcarpet": [
           {
            "colorbar": {
             "outlinewidth": 0,
             "ticks": ""
            },
            "type": "contourcarpet"
           }
          ],
          "heatmap": [
           {
            "colorbar": {
             "outlinewidth": 0,
             "ticks": ""
            },
            "colorscale": [
             [
              0,
              "#0d0887"
             ],
             [
              0.1111111111111111,
              "#46039f"
             ],
             [
              0.2222222222222222,
              "#7201a8"
             ],
             [
              0.3333333333333333,
              "#9c179e"
             ],
             [
              0.4444444444444444,
              "#bd3786"
             ],
             [
              0.5555555555555556,
              "#d8576b"
             ],
             [
              0.6666666666666666,
              "#ed7953"
             ],
             [
              0.7777777777777778,
              "#fb9f3a"
             ],
             [
              0.8888888888888888,
              "#fdca26"
             ],
             [
              1,
              "#f0f921"
             ]
            ],
            "type": "heatmap"
           }
          ],
          "heatmapgl": [
           {
            "colorbar": {
             "outlinewidth": 0,
             "ticks": ""
            },
            "colorscale": [
             [
              0,
              "#0d0887"
             ],
             [
              0.1111111111111111,
              "#46039f"
             ],
             [
              0.2222222222222222,
              "#7201a8"
             ],
             [
              0.3333333333333333,
              "#9c179e"
             ],
             [
              0.4444444444444444,
              "#bd3786"
             ],
             [
              0.5555555555555556,
              "#d8576b"
             ],
             [
              0.6666666666666666,
              "#ed7953"
             ],
             [
              0.7777777777777778,
              "#fb9f3a"
             ],
             [
              0.8888888888888888,
              "#fdca26"
             ],
             [
              1,
              "#f0f921"
             ]
            ],
            "type": "heatmapgl"
           }
          ],
          "histogram": [
           {
            "marker": {
             "pattern": {
              "fillmode": "overlay",
              "size": 10,
              "solidity": 0.2
             }
            },
            "type": "histogram"
           }
          ],
          "histogram2d": [
           {
            "colorbar": {
             "outlinewidth": 0,
             "ticks": ""
            },
            "colorscale": [
             [
              0,
              "#0d0887"
             ],
             [
              0.1111111111111111,
              "#46039f"
             ],
             [
              0.2222222222222222,
              "#7201a8"
             ],
             [
              0.3333333333333333,
              "#9c179e"
             ],
             [
              0.4444444444444444,
              "#bd3786"
             ],
             [
              0.5555555555555556,
              "#d8576b"
             ],
             [
              0.6666666666666666,
              "#ed7953"
             ],
             [
              0.7777777777777778,
              "#fb9f3a"
             ],
             [
              0.8888888888888888,
              "#fdca26"
             ],
             [
              1,
              "#f0f921"
             ]
            ],
            "type": "histogram2d"
           }
          ],
          "histogram2dcontour": [
           {
            "colorbar": {
             "outlinewidth": 0,
             "ticks": ""
            },
            "colorscale": [
             [
              0,
              "#0d0887"
             ],
             [
              0.1111111111111111,
              "#46039f"
             ],
             [
              0.2222222222222222,
              "#7201a8"
             ],
             [
              0.3333333333333333,
              "#9c179e"
             ],
             [
              0.4444444444444444,
              "#bd3786"
             ],
             [
              0.5555555555555556,
              "#d8576b"
             ],
             [
              0.6666666666666666,
              "#ed7953"
             ],
             [
              0.7777777777777778,
              "#fb9f3a"
             ],
             [
              0.8888888888888888,
              "#fdca26"
             ],
             [
              1,
              "#f0f921"
             ]
            ],
            "type": "histogram2dcontour"
           }
          ],
          "mesh3d": [
           {
            "colorbar": {
             "outlinewidth": 0,
             "ticks": ""
            },
            "type": "mesh3d"
           }
          ],
          "parcoords": [
           {
            "line": {
             "colorbar": {
              "outlinewidth": 0,
              "ticks": ""
             }
            },
            "type": "parcoords"
           }
          ],
          "pie": [
           {
            "automargin": true,
            "type": "pie"
           }
          ],
          "scatter": [
           {
            "fillpattern": {
             "fillmode": "overlay",
             "size": 10,
             "solidity": 0.2
            },
            "type": "scatter"
           }
          ],
          "scatter3d": [
           {
            "line": {
             "colorbar": {
              "outlinewidth": 0,
              "ticks": ""
             }
            },
            "marker": {
             "colorbar": {
              "outlinewidth": 0,
              "ticks": ""
             }
            },
            "type": "scatter3d"
           }
          ],
          "scattercarpet": [
           {
            "marker": {
             "colorbar": {
              "outlinewidth": 0,
              "ticks": ""
             }
            },
            "type": "scattercarpet"
           }
          ],
          "scattergeo": [
           {
            "marker": {
             "colorbar": {
              "outlinewidth": 0,
              "ticks": ""
             }
            },
            "type": "scattergeo"
           }
          ],
          "scattergl": [
           {
            "marker": {
             "colorbar": {
              "outlinewidth": 0,
              "ticks": ""
             }
            },
            "type": "scattergl"
           }
          ],
          "scattermapbox": [
           {
            "marker": {
             "colorbar": {
              "outlinewidth": 0,
              "ticks": ""
             }
            },
            "type": "scattermapbox"
           }
          ],
          "scatterpolar": [
           {
            "marker": {
             "colorbar": {
              "outlinewidth": 0,
              "ticks": ""
             }
            },
            "type": "scatterpolar"
           }
          ],
          "scatterpolargl": [
           {
            "marker": {
             "colorbar": {
              "outlinewidth": 0,
              "ticks": ""
             }
            },
            "type": "scatterpolargl"
           }
          ],
          "scatterternary": [
           {
            "marker": {
             "colorbar": {
              "outlinewidth": 0,
              "ticks": ""
             }
            },
            "type": "scatterternary"
           }
          ],
          "surface": [
           {
            "colorbar": {
             "outlinewidth": 0,
             "ticks": ""
            },
            "colorscale": [
             [
              0,
              "#0d0887"
             ],
             [
              0.1111111111111111,
              "#46039f"
             ],
             [
              0.2222222222222222,
              "#7201a8"
             ],
             [
              0.3333333333333333,
              "#9c179e"
             ],
             [
              0.4444444444444444,
              "#bd3786"
             ],
             [
              0.5555555555555556,
              "#d8576b"
             ],
             [
              0.6666666666666666,
              "#ed7953"
             ],
             [
              0.7777777777777778,
              "#fb9f3a"
             ],
             [
              0.8888888888888888,
              "#fdca26"
             ],
             [
              1,
              "#f0f921"
             ]
            ],
            "type": "surface"
           }
          ],
          "table": [
           {
            "cells": {
             "fill": {
              "color": "#EBF0F8"
             },
             "line": {
              "color": "white"
             }
            },
            "header": {
             "fill": {
              "color": "#C8D4E3"
             },
             "line": {
              "color": "white"
             }
            },
            "type": "table"
           }
          ]
         },
         "layout": {
          "annotationdefaults": {
           "arrowcolor": "#2a3f5f",
           "arrowhead": 0,
           "arrowwidth": 1
          },
          "autotypenumbers": "strict",
          "coloraxis": {
           "colorbar": {
            "outlinewidth": 0,
            "ticks": ""
           }
          },
          "colorscale": {
           "diverging": [
            [
             0,
             "#8e0152"
            ],
            [
             0.1,
             "#c51b7d"
            ],
            [
             0.2,
             "#de77ae"
            ],
            [
             0.3,
             "#f1b6da"
            ],
            [
             0.4,
             "#fde0ef"
            ],
            [
             0.5,
             "#f7f7f7"
            ],
            [
             0.6,
             "#e6f5d0"
            ],
            [
             0.7,
             "#b8e186"
            ],
            [
             0.8,
             "#7fbc41"
            ],
            [
             0.9,
             "#4d9221"
            ],
            [
             1,
             "#276419"
            ]
           ],
           "sequential": [
            [
             0,
             "#0d0887"
            ],
            [
             0.1111111111111111,
             "#46039f"
            ],
            [
             0.2222222222222222,
             "#7201a8"
            ],
            [
             0.3333333333333333,
             "#9c179e"
            ],
            [
             0.4444444444444444,
             "#bd3786"
            ],
            [
             0.5555555555555556,
             "#d8576b"
            ],
            [
             0.6666666666666666,
             "#ed7953"
            ],
            [
             0.7777777777777778,
             "#fb9f3a"
            ],
            [
             0.8888888888888888,
             "#fdca26"
            ],
            [
             1,
             "#f0f921"
            ]
           ],
           "sequentialminus": [
            [
             0,
             "#0d0887"
            ],
            [
             0.1111111111111111,
             "#46039f"
            ],
            [
             0.2222222222222222,
             "#7201a8"
            ],
            [
             0.3333333333333333,
             "#9c179e"
            ],
            [
             0.4444444444444444,
             "#bd3786"
            ],
            [
             0.5555555555555556,
             "#d8576b"
            ],
            [
             0.6666666666666666,
             "#ed7953"
            ],
            [
             0.7777777777777778,
             "#fb9f3a"
            ],
            [
             0.8888888888888888,
             "#fdca26"
            ],
            [
             1,
             "#f0f921"
            ]
           ]
          },
          "colorway": [
           "#636efa",
           "#EF553B",
           "#00cc96",
           "#ab63fa",
           "#FFA15A",
           "#19d3f3",
           "#FF6692",
           "#B6E880",
           "#FF97FF",
           "#FECB52"
          ],
          "font": {
           "color": "#2a3f5f"
          },
          "geo": {
           "bgcolor": "white",
           "lakecolor": "white",
           "landcolor": "#E5ECF6",
           "showlakes": true,
           "showland": true,
           "subunitcolor": "white"
          },
          "hoverlabel": {
           "align": "left"
          },
          "hovermode": "closest",
          "mapbox": {
           "style": "light"
          },
          "paper_bgcolor": "white",
          "plot_bgcolor": "#E5ECF6",
          "polar": {
           "angularaxis": {
            "gridcolor": "white",
            "linecolor": "white",
            "ticks": ""
           },
           "bgcolor": "#E5ECF6",
           "radialaxis": {
            "gridcolor": "white",
            "linecolor": "white",
            "ticks": ""
           }
          },
          "scene": {
           "xaxis": {
            "backgroundcolor": "#E5ECF6",
            "gridcolor": "white",
            "gridwidth": 2,
            "linecolor": "white",
            "showbackground": true,
            "ticks": "",
            "zerolinecolor": "white"
           },
           "yaxis": {
            "backgroundcolor": "#E5ECF6",
            "gridcolor": "white",
            "gridwidth": 2,
            "linecolor": "white",
            "showbackground": true,
            "ticks": "",
            "zerolinecolor": "white"
           },
           "zaxis": {
            "backgroundcolor": "#E5ECF6",
            "gridcolor": "white",
            "gridwidth": 2,
            "linecolor": "white",
            "showbackground": true,
            "ticks": "",
            "zerolinecolor": "white"
           }
          },
          "shapedefaults": {
           "line": {
            "color": "#2a3f5f"
           }
          },
          "ternary": {
           "aaxis": {
            "gridcolor": "white",
            "linecolor": "white",
            "ticks": ""
           },
           "baxis": {
            "gridcolor": "white",
            "linecolor": "white",
            "ticks": ""
           },
           "bgcolor": "#E5ECF6",
           "caxis": {
            "gridcolor": "white",
            "linecolor": "white",
            "ticks": ""
           }
          },
          "title": {
           "x": 0.05
          },
          "xaxis": {
           "automargin": true,
           "gridcolor": "white",
           "linecolor": "white",
           "ticks": "",
           "title": {
            "standoff": 15
           },
           "zerolinecolor": "white",
           "zerolinewidth": 2
          },
          "yaxis": {
           "automargin": true,
           "gridcolor": "white",
           "linecolor": "white",
           "ticks": "",
           "title": {
            "standoff": 15
           },
           "zerolinecolor": "white",
           "zerolinewidth": 2
          }
         }
        },
        "title": {
         "font": {
          "size": 24
         },
         "text": "Global GDP Trends (1980-2028)",
         "x": 0.5
        },
        "xaxis": {
         "anchor": "y",
         "domain": [
          0,
          1
         ],
         "linecolor": "rgb(204, 204, 204)",
         "linewidth": 2,
         "showgrid": false,
         "showline": true,
         "showticklabels": true,
         "tickfont": {
          "color": "rgb(82, 82, 82)",
          "family": "Arial",
          "size": 12
         },
         "ticks": "outside",
         "title": {
          "text": "Year"
         }
        },
        "yaxis": {
         "anchor": "x",
         "domain": [
          0,
          1
         ],
         "showgrid": true,
         "showline": false,
         "showticklabels": true,
         "title": {
          "text": "Global GDP (in Trillions)"
         },
         "zeroline": false
        }
       }
      }
     },
     "metadata": {},
     "output_type": "display_data"
    }
   ],
   "source": [
    "import plotly.express as px\n",
    "years = [str(year) for year in range(1980, 2029)]\n",
    "global_gdp = data[years].sum()\n",
    "\n",
    "gdp_trends = pd.DataFrame({\n",
    "    'Year' : years,\n",
    "    'Global GDP' : global_gdp\n",
    "})\n",
    "\n",
    "fig = px.line(gdp_trends, x = 'Year', y = 'Global GDP', title = 'Global GDP Trends (1980-2028)')\n",
    "\n",
    "fig.update_layout({\n",
    "    'plot_bgcolor': 'rgba(0, 0, 0, 0)',  # Transparent background inside the plot\n",
    "    'paper_bgcolor': 'rgba(255, 255, 255, 1)',  # Background color outside the plot\n",
    "    'title_font': {'size': 24},\n",
    "    'title_x': 0.5,  # Center the title\n",
    "    'xaxis_title': 'Year',\n",
    "    'yaxis_title': 'Global GDP (in Trillions)',\n",
    "    'xaxis': {\n",
    "        'showline': True, 'showgrid': False, 'showticklabels': True,\n",
    "        'linecolor': 'rgb(204, 204, 204)', 'linewidth': 2,\n",
    "        'ticks': 'outside', 'tickfont': {'family': 'Arial', 'size': 12, 'color': 'rgb(82, 82, 82)'},\n",
    "    },\n",
    "    'yaxis': {\n",
    "        'showgrid': True, 'zeroline': False, 'showline': False, 'showticklabels': True,\n",
    "    },\n",
    "    'autosize': True,\n",
    "    'margin': {'autoexpand': True},\n",
    "    'showlegend': False  # Hide the legend if it's not necessary\n",
    "})\n",
    "\n",
    "fig.update_traces({\n",
    "    'line': {'color': 'RoyalBlue'},\n",
    "    'marker': {'color': 'RoyalBlue', 'size': 8}\n",
    "})\n",
    "\n",
    "fig.show()\n",
    "\n"
   ]
  }
 ],
 "metadata": {
  "kernelspec": {
   "display_name": ".venv",
   "language": "python",
   "name": "python3"
  },
  "language_info": {
   "codemirror_mode": {
    "name": "ipython",
    "version": 3
   },
   "file_extension": ".py",
   "mimetype": "text/x-python",
   "name": "python",
   "nbconvert_exporter": "python",
   "pygments_lexer": "ipython3",
   "version": "3.11.8"
  }
 },
 "nbformat": 4,
 "nbformat_minor": 2
}
